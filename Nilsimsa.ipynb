{
 "cells": [
  {
   "cell_type": "code",
   "execution_count": 23,
   "metadata": {
    "collapsed": true
   },
   "outputs": [],
   "source": [
    "from nilsimsa import Nilsimsa\n",
    "from nilsimsa import compare_digests\n",
    "\n",
    "import nilsimsa\n",
    "import pandas as pd\n",
    "import numpy as np\n",
    "import matplotlib.pyplot\n",
    "import os"
   ]
  },
  {
   "cell_type": "code",
   "execution_count": 24,
   "outputs": [],
   "source": [
    "def test_nilsimsa(fname='input1.txt'):\n",
    "    f = open(fname, \"rb\")\n",
    "    nil = Nilsimsa(f.read())\n",
    "    f.close()\n",
    "    return nil.hexdigest()"
   ],
   "metadata": {
    "collapsed": false
   }
  },
  {
   "cell_type": "code",
   "execution_count": 27,
   "outputs": [],
   "source": [
    "def check_digests(hash_1=None, hash_2=None):\n",
    "    return compare_digests(hash_1, hash_2)"
   ],
   "metadata": {
    "collapsed": false
   }
  },
  {
   "cell_type": "code",
   "execution_count": 25,
   "outputs": [
    {
     "name": "stdout",
     "output_type": "stream",
     "text": [
      "563186208204582ecd23511042e2b3010caa08115962c6522f70a4a4d276ecc8\n"
     ]
    }
   ],
   "source": [
    "hash_1 = test_nilsimsa('input1.txt')\n",
    "print(hash_1)"
   ],
   "metadata": {
    "collapsed": false
   }
  },
  {
   "cell_type": "code",
   "execution_count": 35,
   "outputs": [
    {
     "name": "stdout",
     "output_type": "stream",
     "text": [
      "563186208204582ecd23511042e2b3010caa08115962c6522f70a4a4d276ecc8\n",
      "Hash-Length: 64\n"
     ]
    }
   ],
   "source": [
    "hash_2 = test_nilsimsa('input1.txt')\n",
    "print(hash_2)\n",
    "print(f'Hash-Length: {len(hash_2)}')"
   ],
   "metadata": {
    "collapsed": false
   }
  },
  {
   "cell_type": "code",
   "execution_count": 37,
   "outputs": [
    {
     "name": "stdout",
     "output_type": "stream",
     "text": [
      "hash_1 <-> hash_2: 128\n",
      "hash_2 <-> hash_1: 128\n"
     ]
    }
   ],
   "source": [
    "# Compare Hashes:\n",
    "similarity_score = check_digests(hash_1, hash_2)\n",
    "print(f'hash_1 <-> hash_2: {similarity_score}')\n",
    "similarity_score = check_digests(hash_2, hash_1)\n",
    "print(f'hash_2 <-> hash_1: {similarity_score}')"
   ],
   "metadata": {
    "collapsed": false
   }
  },
  {
   "cell_type": "code",
   "execution_count": 42,
   "outputs": [
    {
     "name": "stdout",
     "output_type": "stream",
     "text": [
      "08000104c0410200000a0500c800208214048000212100005c10400000880100\n",
      "08002104c0410200000a0500c800208214048000210100005c90400000800100\n",
      "hash_1 <-> hash_2: 124\n"
     ]
    }
   ],
   "source": [
    "filename = \"Opera\"\n",
    "operagx_hash = test_nilsimsa(filename)\n",
    "print(operagx_hash)\n",
    "filename = \"Opera_1\"\n",
    "opera_hash = test_nilsimsa(filename)\n",
    "print(opera_hash)\n",
    "\n",
    "#Compare Opera hashes:\n",
    "similarity_score = check_digests(operagx_hash, opera_hash)\n",
    "print(f'hash_1 <-> hash_2: {similarity_score}')\n"
   ],
   "metadata": {
    "collapsed": false
   }
  },
  {
   "cell_type": "code",
   "execution_count": 43,
   "outputs": [
    {
     "name": "stdout",
     "output_type": "stream",
     "text": [
      "5c15012001000000110000082800400204000011800000000605100108040080\n",
      "5c15012001000000010000082800400204000011800000000201100108040080\n",
      "hash_1 <-> hash_2: 125\n"
     ]
    }
   ],
   "source": [
    "filename = \"opera_1.txt\"\n",
    "operagx_hash = test_nilsimsa(filename)\n",
    "print(operagx_hash)\n",
    "filename = \"opera_2.txt\"\n",
    "opera_hash = test_nilsimsa(filename)\n",
    "print(opera_hash)\n",
    "\n",
    "#Compare Opera hashes:\n",
    "similarity_score = check_digests(operagx_hash, opera_hash)\n",
    "print(f'hash_1 <-> hash_2: {similarity_score}')\n"
   ],
   "metadata": {
    "collapsed": false
   }
  },
  {
   "cell_type": "code",
   "execution_count": null,
   "outputs": [],
   "source": [],
   "metadata": {
    "collapsed": false
   }
  }
 ],
 "metadata": {
  "kernelspec": {
   "display_name": "Python 3",
   "language": "python",
   "name": "python3"
  },
  "language_info": {
   "codemirror_mode": {
    "name": "ipython",
    "version": 2
   },
   "file_extension": ".py",
   "mimetype": "text/x-python",
   "name": "python",
   "nbconvert_exporter": "python",
   "pygments_lexer": "ipython2",
   "version": "2.7.6"
  }
 },
 "nbformat": 4,
 "nbformat_minor": 0
}
